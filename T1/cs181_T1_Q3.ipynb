{
 "cells": [
  {
   "cell_type": "markdown",
   "metadata": {},
   "source": [
    "# T1 Q3"
   ]
  },
  {
   "cell_type": "markdown",
   "metadata": {},
   "source": [
    "---"
   ]
  },
  {
   "cell_type": "code",
   "execution_count": 1,
   "metadata": {
    "collapsed": true
   },
   "outputs": [],
   "source": [
    "import math\n",
    "import csv\n",
    "import numpy as np\n",
    "import random as rand\n",
    "import matplotlib.pyplot as plt"
   ]
  },
  {
   "cell_type": "code",
   "execution_count": 2,
   "metadata": {
    "collapsed": false
   },
   "outputs": [],
   "source": [
    "import warnings\n",
    "warnings.filterwarnings(\"ignore\")"
   ]
  },
  {
   "cell_type": "markdown",
   "metadata": {},
   "source": [
    "## Q1"
   ]
  },
  {
   "cell_type": "markdown",
   "metadata": {},
   "source": [
    "---"
   ]
  },
  {
   "cell_type": "code",
   "execution_count": 3,
   "metadata": {
    "collapsed": false
   },
   "outputs": [],
   "source": [
    "K_true = 10\n",
    "def generate_aj (K_true):\n",
    "    a_j = []\n",
    "    for i in range(0, K_true+1):\n",
    "        a_j.append(rand.uniform(-1,1))\n",
    "    return a_j\n",
    "a_j = generate_aj (K_true)"
   ]
  },
  {
   "cell_type": "code",
   "execution_count": 4,
   "metadata": {
    "collapsed": false
   },
   "outputs": [],
   "source": [
    "N = 20\n",
    "def generate_data (N):\n",
    "    data = []\n",
    "    for j in range(0, N):\n",
    "        data.append(rand.uniform(-5,5))\n",
    "    return data\n",
    "data = generate_data(N)"
   ]
  },
  {
   "cell_type": "code",
   "execution_count": 5,
   "metadata": {
    "collapsed": false
   },
   "outputs": [],
   "source": [
    "def poly (data, a_j):\n",
    "    poly_output = []\n",
    "    for x in data: \n",
    "        total_sum = 0\n",
    "        for j in range(len(a_j)):\n",
    "            total_sum += a_j[j]*(x**j)\n",
    "        poly_output.append(total_sum)\n",
    "    return poly_output\n",
    "poly_rand_output = poly (data, a_j)"
   ]
  },
  {
   "cell_type": "code",
   "execution_count": 6,
   "metadata": {
    "collapsed": false
   },
   "outputs": [],
   "source": [
    "def compute_y (data, a_j):  \n",
    "    y_i_prior = poly (data, a_j)\n",
    "    eps_lst = []\n",
    "    for i in range(len(data)):\n",
    "        eps_lst.append(np.random.normal(0, np.sqrt((max(y_i_prior) - min(y_i_prior))/10.)))\n",
    "    y_i = np.add(y_i_prior, eps_lst)\n",
    "    return y_i\n",
    "y_i = compute_y (data, a_j)"
   ]
  },
  {
   "cell_type": "code",
   "execution_count": 7,
   "metadata": {
    "collapsed": false
   },
   "outputs": [],
   "source": [
    "def a_vector_lst (data, y_i, k_high):\n",
    "    return (np.polyfit(data, y_i, k_high, full=True))\n",
    "a_lst, _, _, chi, _ = a_vector_lst(data, y_i, K_true)\n",
    "poly_output = poly (data, a_lst[::-1])"
   ]
  },
  {
   "cell_type": "markdown",
   "metadata": {},
   "source": [
    "## Q2"
   ]
  },
  {
   "cell_type": "markdown",
   "metadata": {},
   "source": [
    "---"
   ]
  },
  {
   "cell_type": "code",
   "execution_count": 8,
   "metadata": {
    "collapsed": false
   },
   "outputs": [
    {
     "name": "stdout",
     "output_type": "stream",
     "text": [
      "142047.504661\n"
     ]
    }
   ],
   "source": [
    "sigma = (max(poly_output) - min(poly_output)) / 10.0\n",
    "print sigma"
   ]
  },
  {
   "cell_type": "code",
   "execution_count": 9,
   "metadata": {
    "collapsed": false
   },
   "outputs": [
    {
     "data": {
      "text/plain": [
       "3.7389553172792365"
      ]
     },
     "execution_count": 9,
     "metadata": {},
     "output_type": "execute_result"
    }
   ],
   "source": [
    "def chi_square (X, Y):\n",
    "    return np.sum((np.array(Y) - np.array(X)) ** 2) / sigma\n",
    "chi_square(poly_output, y_i)"
   ]
  },
  {
   "cell_type": "code",
   "execution_count": 10,
   "metadata": {
    "collapsed": false
   },
   "outputs": [
    {
     "name": "stdout",
     "output_type": "stream",
     "text": [
      "10 3.73895531728\n"
     ]
    }
   ],
   "source": [
    "def min_chi (y_i, k_high):\n",
    "    a_lst, residuals, _, _, _ = a_vector_lst(data, y_i, k_high)\n",
    "    poly_output = poly (data, a_lst[::-1])\n",
    "    min_chi_val = chi_square (poly_output, y_i)\n",
    "    return min_chi_val\n",
    "min_val = min_chi(y_i, K_true)\n",
    "print K_true, min_val"
   ]
  },
  {
   "cell_type": "code",
   "execution_count": 28,
   "metadata": {
    "collapsed": false
   },
   "outputs": [
    {
     "data": {
      "image/png": "[encoded data removed]",
      "text/plain": [
       "<matplotlib.figure.Figure at 0x1116e5d50>"
      ]
     },
     "metadata": {},
     "output_type": "display_data"
    }
   ],
   "source": [
    "N = 20\n",
    "data = generate_data(N)\n",
    "a_j = generate_aj (K_true)\n",
    "y_i = compute_y (data, a_j)\n",
    "a_lst, _, _, chi, _ = a_vector_lst(data, y_i, K_true)\n",
    "poly_output = poly (data, a_lst[::-1])\n",
    "sigma = (max(poly_output) - min(poly_output)) / 10.0\n",
    "chi_lst = []\n",
    "for k in range(1, 20):\n",
    "    chi_lst.append(min_chi (y_i, k))\n",
    "#     print k, min_chi (y_i, k)\n",
    "plt.plot(range(1,20), chi_lst, 'ro')\n",
    "plt.xlabel(\"K\")\n",
    "plt.ylabel(\"Chi Squared\")\n",
    "plt.title(\"Minimum Chi Squared Decreases with K\")\n",
    "plt.show()"
   ]
  },
  {
   "cell_type": "markdown",
   "metadata": {},
   "source": [
    "## Q3"
   ]
  },
  {
   "cell_type": "markdown",
   "metadata": {},
   "source": [
    "---"
   ]
  },
  {
   "cell_type": "code",
   "execution_count": 12,
   "metadata": {
    "collapsed": false
   },
   "outputs": [
    {
     "name": "stdout",
     "output_type": "stream",
     "text": [
      "10.07 0.681982404465\n"
     ]
    }
   ],
   "source": [
    "N = 20\n",
    "total_bic_lst = []\n",
    "for i in range(500):\n",
    "    data = generate_data(N)\n",
    "    a_j = generate_aj (K_true)\n",
    "    y_i = compute_y (data, a_j)\n",
    "    a_lst, residuals, _, _, _ = a_vector_lst(data, y_i, K_true)\n",
    "    poly_output = poly (data, a_lst[::-1])\n",
    "    sigma = (max(poly_output) - min(poly_output)) / 10.0\n",
    "    bic_val_lst = []\n",
    "    for k_high in range(1, 20):\n",
    "        min_val = min_chi(y_i, k_high)\n",
    "        bic_val = N/2.*math.log(2*math.pi*sigma) - N * math.e + 1./2.*min_val + (k_high+1)/2.*math.log(N)\n",
    "        bic_val_lst.append(bic_val)\n",
    "    total_bic_lst.append(np.argmin(bic_val_lst)+1)\n",
    "print np.mean(total_bic_lst), np.std(total_bic_lst)"
   ]
  },
  {
   "cell_type": "markdown",
   "metadata": {},
   "source": [
    "### Q4"
   ]
  },
  {
   "cell_type": "markdown",
   "metadata": {},
   "source": [
    "---"
   ]
  },
  {
   "cell_type": "code",
   "execution_count": 15,
   "metadata": {
    "collapsed": false
   },
   "outputs": [],
   "source": [
    "N = 3*np.logspace(0,4,40)\n",
    "n_behavior = []\n",
    "for num_n in N:\n",
    "    total_bic_lst = []\n",
    "    for i in range(500):\n",
    "        data = generate_data(int(num_n))\n",
    "        a_j = generate_aj (K_true)\n",
    "        y_i = compute_y (data, a_j)\n",
    "        a_lst, _, _, _, _ = a_vector_lst(data, y_i, K_true)\n",
    "        poly_output = poly (data, a_lst[::-1])\n",
    "        sigma = (max(poly_output) - min(poly_output)) / 10.0\n",
    "        bic_val_lst = []\n",
    "        for k_high in range(1, 20):\n",
    "            min_val = min_chi(y_i, k_high)\n",
    "            bic_val = num_n/2.*math.log(2*math.pi*sigma) - num_n * math.e + 1./2.*min_val + k_high/2.*math.log(num_n)\n",
    "            bic_val_lst.append(bic_val)\n",
    "        total_bic_lst.append(np.argmin(bic_val_lst)+1)\n",
    "    n_behavior.append([np.mean(total_bic_lst), np.std(total_bic_lst)]) "
   ]
  },
  {
   "cell_type": "code",
   "execution_count": 16,
   "metadata": {
    "collapsed": false
   },
   "outputs": [
    {
     "data": {
      "image/png": "[encoded data removed]",
      "text/plain": [
       "<matplotlib.figure.Figure at 0x108ed2c50>"
      ]
     },
     "metadata": {},
     "output_type": "display_data"
    }
   ],
   "source": [
    "x = 3*np.logspace(0,4,40)\n",
    "y = [i for [i,j] in n_behavior]\n",
    "e = [j for [i,j] in n_behavior]\n",
    "\n",
    "plt.errorbar(x, y, e, linestyle='None', marker='o')\n",
    "plt.xscale('log')\n",
    "plt.xlabel('N Value')\n",
    "plt.ylabel('Optimal K')\n",
    "plt.title('Convergence of K to K_true for Large Datasets')\n",
    "plt.show()"
   ]
  },
  {
   "cell_type": "code",
   "execution_count": null,
   "metadata": {
    "collapsed": true
   },
   "outputs": [],
   "source": []
  }
 ],
 "metadata": {
  "kernelspec": {
   "display_name": "Python 2",
   "language": "python",
   "name": "python2"
  },
  "language_info": {
   "codemirror_mode": {
    "name": "ipython",
    "version": 2
   },
   "file_extension": ".py",
   "mimetype": "text/x-python",
   "name": "python",
   "nbconvert_exporter": "python",
   "pygments_lexer": "ipython2",
   "version": "2.7.13"
  }
 },
 "nbformat": 4,
 "nbformat_minor": 2
}

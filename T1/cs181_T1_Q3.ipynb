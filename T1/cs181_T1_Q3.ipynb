{
 "cells": [
  {
   "cell_type": "markdown",
   "metadata": {},
   "source": [
    "# T1 Q3"
   ]
  },
  {
   "cell_type": "markdown",
   "metadata": {},
   "source": [
    "---"
   ]
  },
  {
   "cell_type": "code",
   "execution_count": 729,
   "metadata": {
    "collapsed": true
   },
   "outputs": [],
   "source": [
    "import math\n",
    "import csv\n",
    "import numpy as np\n",
    "import random as rand\n",
    "import matplotlib.pyplot as plt"
   ]
  },
  {
   "cell_type": "code",
   "execution_count": 730,
   "metadata": {
    "collapsed": false
   },
   "outputs": [],
   "source": [
    "import warnings\n",
    "warnings.filterwarnings(\"ignore\")"
   ]
  },
  {
   "cell_type": "markdown",
   "metadata": {},
   "source": [
    "## Q1"
   ]
  },
  {
   "cell_type": "markdown",
   "metadata": {},
   "source": [
    "---"
   ]
  },
  {
   "cell_type": "code",
   "execution_count": 843,
   "metadata": {
    "collapsed": false
   },
   "outputs": [],
   "source": [
    "K_true = 10\n",
    "def generate_aj (K_true):\n",
    "    a_j = []\n",
    "    for i in range(0, K_true+1):\n",
    "        a_j.append(rand.uniform(-1,1))\n",
    "    return a_j\n",
    "a_j = generate_aj (K_true)"
   ]
  },
  {
   "cell_type": "code",
   "execution_count": 844,
   "metadata": {
    "collapsed": false
   },
   "outputs": [],
   "source": [
    "N = 20\n",
    "def generate_data (N):\n",
    "    data = []\n",
    "    for j in range(0, N):\n",
    "        data.append(rand.uniform(-5,5))\n",
    "    return data\n",
    "data = generate_data(N)"
   ]
  },
  {
   "cell_type": "code",
   "execution_count": 845,
   "metadata": {
    "collapsed": false
   },
   "outputs": [],
   "source": [
    "def poly (data, a_j):\n",
    "    poly_output = []\n",
    "    for x in data: \n",
    "        total_sum = 0\n",
    "        for j in range(len(a_j)):\n",
    "            total_sum += a_j[j]*(x**j)\n",
    "        poly_output.append(total_sum)\n",
    "    return poly_output\n",
    "poly_rand_output = poly (data, a_j)"
   ]
  },
  {
   "cell_type": "code",
   "execution_count": 846,
   "metadata": {
    "collapsed": false
   },
   "outputs": [],
   "source": [
    "def compute_y (data, a_j):  \n",
    "    y_i_prior = poly (data, a_j)\n",
    "    eps_lst = []\n",
    "    for i in range(len(data)):\n",
    "        eps_lst.append(np.random.normal(0, np.sqrt((max(y_i_prior) - min(y_i_prior))/10.)))\n",
    "    y_i = np.add(y_i_prior, eps_lst)\n",
    "    return y_i\n",
    "y_i = compute_y (data, a_j)"
   ]
  },
  {
   "cell_type": "code",
   "execution_count": 866,
   "metadata": {
    "collapsed": false
   },
   "outputs": [],
   "source": [
    "def a_vector_lst (data, y_i, k_high):\n",
    "    return (np.polyfit(data, y_i, k_high, full=True))\n",
    "a_lst, _, _, chi, _ = a_vector_lst(data, y_i, K_true)\n",
    "poly_output = poly (data, a_lst[::-1])"
   ]
  },
  {
   "cell_type": "markdown",
   "metadata": {},
   "source": [
    "## Q2"
   ]
  },
  {
   "cell_type": "markdown",
   "metadata": {},
   "source": [
    "---"
   ]
  },
  {
   "cell_type": "code",
   "execution_count": 872,
   "metadata": {
    "collapsed": false
   },
   "outputs": [
    {
     "name": "stdout",
     "output_type": "stream",
     "text": [
      "648821.634502\n"
     ]
    }
   ],
   "source": [
    "sigma = (max(poly_output) - min(poly_output)) / 10.0\n",
    "print sigma"
   ]
  },
  {
   "cell_type": "code",
   "execution_count": 873,
   "metadata": {
    "collapsed": false
   },
   "outputs": [
    {
     "data": {
      "text/plain": [
       "7.2437371528419074"
      ]
     },
     "execution_count": 873,
     "metadata": {},
     "output_type": "execute_result"
    }
   ],
   "source": [
    "def chi_square (X, Y):\n",
    "    return np.sum((np.array(Y) - np.array(X)) ** 2) / sigma\n",
    "chi_square(poly_output, y_i)"
   ]
  },
  {
   "cell_type": "code",
   "execution_count": 874,
   "metadata": {
    "collapsed": false
   },
   "outputs": [
    {
     "name": "stdout",
     "output_type": "stream",
     "text": [
      "10 7.24373715284\n"
     ]
    }
   ],
   "source": [
    "def min_chi (y_i, k_high):\n",
    "    a_lst, residuals, _, _, _ = a_vector_lst(data, y_i, k_high)\n",
    "    poly_output = poly (data, a_lst[::-1])\n",
    "    min_chi_val = chi_square (poly_output, y_i)\n",
    "    return min_chi_val\n",
    "min_val = min_chi(y_i, K_true)\n",
    "print K_true, min_val"
   ]
  },
  {
   "cell_type": "code",
   "execution_count": 878,
   "metadata": {
    "collapsed": false
   },
   "outputs": [
    {
     "name": "stdout",
     "output_type": "stream",
     "text": [
      "1 140373854.437\n",
      "2 36967724.3074\n",
      "3 32725196.832\n",
      "4 3763300.75677\n",
      "5 3695691.75775\n",
      "6 238239.028691\n",
      "7 187716.087412\n",
      "8 1169.25943472\n",
      "9 1109.42343619\n",
      "10 5.81874713188\n",
      "11 5.8176046397\n",
      "12 4.83870575915\n",
      "13 2.09206941646\n",
      "14 2.04313454588\n",
      "15 2.04260821657\n",
      "16 1.79316277117\n",
      "17 0.0634794264921\n",
      "18 0.0353609754765\n",
      "19 1.56436978986e-17\n"
     ]
    },
    {
     "data": {
      "image/png": "[encoded data removed]",
      "text/plain": [
       "<matplotlib.figure.Figure at 0x10a5a4dd0>"
      ]
     },
     "metadata": {},
     "output_type": "display_data"
    }
   ],
   "source": [
    "N = 20\n",
    "data = generate_data(N)\n",
    "a_j = generate_aj (K_true)\n",
    "y_i = compute_y (data, a_j)\n",
    "a_lst, _, _, chi, _ = a_vector_lst(data, y_i, K_true)\n",
    "poly_output = poly (data, a_lst[::-1])\n",
    "sigma = (max(poly_output) - min(poly_output)) / 10.0\n",
    "chi_lst = []\n",
    "for k in range(1, 20):\n",
    "    chi_lst.append(min_chi (y_i, k))\n",
    "    print k, min_chi (y_i, k)\n",
    "plt.plot(range(1,20), chi_lst, 'ro')\n",
    "plt.show()"
   ]
  },
  {
   "cell_type": "markdown",
   "metadata": {},
   "source": [
    "## Q3"
   ]
  },
  {
   "cell_type": "markdown",
   "metadata": {},
   "source": [
    "---"
   ]
  },
  {
   "cell_type": "code",
   "execution_count": 856,
   "metadata": {
    "collapsed": false
   },
   "outputs": [
    {
     "name": "stdout",
     "output_type": "stream",
     "text": [
      "10.11 0.849646985518\n"
     ]
    }
   ],
   "source": [
    "N = 20\n",
    "total_bic_lst = []\n",
    "for i in range(500):\n",
    "    data = generate_data(N)\n",
    "    a_j = generate_aj (K_true)\n",
    "    y_i = compute_y (data, a_j)\n",
    "    a_lst, residuals, _, _, _ = a_vector_lst(data, y_i, K_true)\n",
    "    poly_output = poly (data, a_lst[::-1])\n",
    "    sigma = (max(poly_output) - min(poly_output)) / 10.0\n",
    "    bic_val_lst = []\n",
    "    for k_high in range(1, 20):\n",
    "        min_val = min_chi(y_i, k_high)\n",
    "        bic_val = N/2.*math.log(2*math.pi*sigma) - N * math.e + 1./2.*min_val + k_high/2.*math.log(N)\n",
    "        bic_val_lst.append(bic_val)\n",
    "    total_bic_lst.append(np.argmin(bic_val_lst)+1)\n",
    "print np.mean(total_bic_lst), np.std(total_bic_lst)"
   ]
  },
  {
   "cell_type": "markdown",
   "metadata": {},
   "source": [
    "### Q4"
   ]
  },
  {
   "cell_type": "markdown",
   "metadata": {},
   "source": [
    "---"
   ]
  },
  {
   "cell_type": "code",
   "execution_count": 938,
   "metadata": {
    "collapsed": false
   },
   "outputs": [
    {
     "name": "stdout",
     "output_type": "stream",
     "text": [
      "3.0\n",
      "3.58132992514\n",
      "4.27530801091\n",
      "5.10376283956\n",
      "6.09275286271\n",
      "7.27338605125\n",
      "8.68279837415\n",
      "10.3653218838\n",
      "12.3738791487\n",
      "14.7716478951\n",
      "17.6340482168\n",
      "21.0511148601\n",
      "25.130329202\n",
      "30.0\n",
      "35.8132992514\n",
      "42.7530801091\n",
      "51.0376283956\n",
      "60.9275286271\n",
      "72.7338605125\n",
      "86.8279837415\n",
      "103.653218838\n",
      "123.738791487\n",
      "147.716478951\n",
      "176.340482168\n",
      "210.511148601\n",
      "251.30329202\n",
      "300.0\n",
      "358.132992514\n",
      "427.530801091\n",
      "510.376283956\n",
      "609.275286271\n",
      "727.338605125\n",
      "868.279837415\n",
      "1036.53218838\n",
      "1237.38791487\n",
      "1477.16478951\n",
      "1763.40482168\n",
      "2105.11148601\n",
      "2513.0329202\n",
      "3000.0\n"
     ]
    }
   ],
   "source": [
    "N = 3*np.logspace(0,3,40)\n",
    "n_behavior = []\n",
    "for num_n in N:\n",
    "    total_bic_lst = []\n",
    "    for i in range(5):\n",
    "        data = generate_data(int(num_n))\n",
    "        a_j = generate_aj (K_true)\n",
    "        y_i = compute_y (data, a_j)\n",
    "        a_lst, _, _, _, _ = a_vector_lst(data, y_i, K_true)\n",
    "        poly_output = poly (data, a_lst[::-1])\n",
    "        sigma = (max(poly_output) - min(poly_output)) / 10.0\n",
    "        bic_val_lst = []\n",
    "        for k_high in range(1, 20):\n",
    "            min_val = min_chi(y_i, k_high)\n",
    "            bic_val = num_n/2.*math.log(2*math.pi*sigma) - num_n * math.e + 1./2.*min_val + k_high/2.*math.log(num_n)\n",
    "            bic_val_lst.append(bic_val)\n",
    "        total_bic_lst.append(np.argmin(bic_val_lst)+1)\n",
    "    n_behavior.append([np.mean(total_bic_lst), np.std(total_bic_lst)]) "
   ]
  },
  {
   "cell_type": "code",
   "execution_count": 947,
   "metadata": {
    "collapsed": false
   },
   "outputs": [
    {
     "data": {
      "image/png": "[encoded data removed]",
      "text/plain": [
       "<matplotlib.figure.Figure at 0x10b533d90>"
      ]
     },
     "metadata": {},
     "output_type": "display_data"
    }
   ],
   "source": [
    "x = 3*np.logspace(0,3,40)\n",
    "y = [i for [i,j] in n_behavior]\n",
    "e = [j for [i,j] in n_behavior]\n",
    "\n",
    "plt.errorbar(x, y, e, linestyle='None', marker='o')\n",
    "plt.xscale('log')\n",
    "plt.xlabel('N Value')\n",
    "plt.ylabel('Optimal K')\n",
    "plt.title('Convergence of K to K_true for Large Datasets')\n",
    "plt.show()"
   ]
  },
  {
   "cell_type": "code",
   "execution_count": null,
   "metadata": {
    "collapsed": true
   },
   "outputs": [],
   "source": []
  }
 ],
 "metadata": {
  "kernelspec": {
   "display_name": "Python 2",
   "language": "python",
   "name": "python2"
  },
  "language_info": {
   "codemirror_mode": {
    "name": "ipython",
    "version": 2
   },
   "file_extension": ".py",
   "mimetype": "text/x-python",
   "name": "python",
   "nbconvert_exporter": "python",
   "pygments_lexer": "ipython2",
   "version": "2.7.13"
  }
 },
 "nbformat": 4,
 "nbformat_minor": 2
}
